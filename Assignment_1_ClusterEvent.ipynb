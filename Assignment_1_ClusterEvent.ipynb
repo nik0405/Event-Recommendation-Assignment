{
 "cells": [
  {
   "cell_type": "code",
   "execution_count": 9,
   "metadata": {},
   "outputs": [
    {
     "name": "stdout",
     "output_type": "stream",
     "text": [
      "         event_id   0\n",
      "0      1000018501  33\n",
      "1      1000265896  34\n",
      "2      1000485284   0\n",
      "3      1000535692   8\n",
      "4      1000853535  47\n",
      "5      1000956782  19\n",
      "6      1001013482   0\n",
      "7      1001224155  26\n",
      "8      1001687490  23\n",
      "9      1001873472  23\n",
      "10     1002285977  12\n",
      "11     1002481276  47\n",
      "12     1002836222   0\n",
      "13     1002911800  17\n",
      "14     1003006330  31\n",
      "15     1003065332  23\n",
      "16     1003559522  23\n",
      "17      100382732   0\n",
      "18     1003839338  19\n",
      "19     1003847016  31\n",
      "20      100417525  16\n",
      "21     1004175800  26\n",
      "22     1004294228  31\n",
      "23     1004501613  19\n",
      "24     1005267385  32\n",
      "25     1005411582  38\n",
      "26     1006018754   5\n",
      "27     1006292962   5\n",
      "28     1006377265  17\n",
      "29     1006504281  16\n",
      "...           ...  ..\n",
      "12269    99027353  31\n",
      "12270   990323474   6\n",
      "12271   990630557   4\n",
      "12272   991316026  12\n",
      "12273   991427858  26\n",
      "12274   991516412  31\n",
      "12275   991723226  12\n",
      "12276   992455200  34\n",
      "12277   992478333  12\n",
      "12278    99279011  43\n",
      "12279   993490458   5\n",
      "12280   993825499  31\n",
      "12281   993986256  13\n",
      "12282   994053918  19\n",
      "12283   994869288  43\n",
      "12284   995077958   0\n",
      "12285   996155199  47\n",
      "12286    99639155   5\n",
      "12287   996491337  30\n",
      "12288   997119679  32\n",
      "12289   997504526  12\n",
      "12290    99764129  23\n",
      "12291   997929928   8\n",
      "12292   998267429  26\n",
      "12293   998510775  31\n",
      "12294   998521698  30\n",
      "12295   998740197  11\n",
      "12296   999037301  26\n",
      "12297   999643248   0\n",
      "12298   999690702  19\n",
      "\n",
      "[12299 rows x 2 columns]\n"
     ]
    }
   ],
   "source": [
    "from sklearn.cluster import KMeans\n",
    "from pandas import DataFrame\n",
    "import pandas as pd\n",
    "\n",
    "\n",
    "path = \"data/events_min1.csv\" # Removed Blank values from FinalData.csv and created events_min1.csv to use Events.csv file\n",
    "output_path = \"data/cluster_events.csv\"\n",
    "events = pd.read_csv(path, header=0)\n",
    "events_id = events.iloc[:, 0]\n",
    "events_keywords = events.iloc[:, 10:] \n",
    "#Clustering the count of words used in events to find the similarity by topic for an event\n",
    "kmeans = KMeans(n_clusters = 50, max_iter = 40, n_init = 4)\n",
    "clusters = DataFrame(kmeans.fit_predict(events_keywords))\n",
    "result = pd.concat([events_id, clusters], axis=1, join='inner', )\n",
    "print(result)\n",
    "result.columns = ['event_id', 'cluster']\n",
    "result.to_csv(output_path, na_rep = 'NA', header = True, index = False)"
   ]
  },
  {
   "cell_type": "code",
   "execution_count": null,
   "metadata": {},
   "outputs": [],
   "source": []
  }
 ],
 "metadata": {
  "kernelspec": {
   "display_name": "Python 3",
   "language": "python",
   "name": "python3"
  },
  "language_info": {
   "codemirror_mode": {
    "name": "ipython",
    "version": 3
   },
   "file_extension": ".py",
   "mimetype": "text/x-python",
   "name": "python",
   "nbconvert_exporter": "python",
   "pygments_lexer": "ipython3",
   "version": "3.6.5"
  }
 },
 "nbformat": 4,
 "nbformat_minor": 2
}
